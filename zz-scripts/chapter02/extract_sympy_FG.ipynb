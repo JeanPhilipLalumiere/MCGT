{
 "cells": [
  {
   "cell_type": "markdown",
   "id": "7fb27b941602401d91542211134fc71a",
   "metadata": {},
   "source": [
    "# Extraction symbolique de F(α) et G(α)\n",
    "\n",
    "Ce notebook lit les résultats de calibration `02_As_ns_vs_alpha.csv`, ajuste un polynôme en α pour F(α) et G(α), reconstruit les expressions symboliques, et exporte la table des coefficients."
   ]
  },
  {
   "cell_type": "code",
   "execution_count": null,
   "id": "acae54e37e7d407bbb7b55eff062a284",
   "metadata": {},
   "outputs": [],
   "source": [
    "from pathlib import Path\n",
    "\n",
    "import numpy as np\n",
    "import pandas as pd\n",
    "import sympy as sp\n",
    "\n",
    "# 1️⃣ Définition des chemins\n",
    "ROOT = Path.cwd().parents[1]  # si lancé depuis zz-scripts/chapter02\n",
    "DATA_IN = ROOT / \"zz-data\" / \"chapter02\" / \"02_As_ns_vs_alpha.csv\"\n",
    "DATA_OUT = ROOT / \"zz-data\" / \"chapter02\"\n",
    "DATA_OUT.mkdir(parents=True, exist_ok=True)"
   ]
  },
  {
   "cell_type": "code",
   "execution_count": null,
   "id": "9a63283cbaf04dbcab1f6479b197f3a8",
   "metadata": {},
   "outputs": [],
   "source": [
    "# 2️⃣ Lecture des données et calcul des séries\n",
    "df = pd.read_csv(DATA_IN)\n",
    "alpha = df[\"alpha\"].values\n",
    "As = df[\"A_s\"].values\n",
    "ns = df[\"n_s\"].values\n",
    "\n",
    "# Constantes Planck 2018\n",
    "A_s0 = 2.10e-9\n",
    "ns0 = 0.9649\n",
    "\n",
    "# 3️⃣ Séries F(α)-1 et G(α)\n",
    "Fm1 = As / A_s0 - 1\n",
    "Gm = ns - ns0\n",
    "\n",
    "# 4️⃣ Ajustement polynômial (ordre 2)\n",
    "ordre = 2\n",
    "coef_F = np.polyfit(alpha, Fm1, ordre)  # [c2, c1, c0]\n",
    "coef_G = np.polyfit(alpha, Gm, ordre)  # [d2, d1, d0]\n",
    "\n",
    "# 5️⃣ Reconstruction symbolique\n",
    "a = sp.symbols(\"alpha\")\n",
    "F_expr = 1 + sum(coef_F[i] * a ** (ordre - i) for i in range(ordre + 1))\n",
    "G_expr = sum(coef_G[i] * a ** (ordre - i) for i in range(ordre + 1))\n",
    "\n",
    "print(\"Expression symbolique pour F(α) :\")\n",
    "sp.pprint(sp.simplify(F_expr))\n",
    "print(\"\\nExpression symbolique pour G(α) :\")\n",
    "sp.pprint(sp.simplify(G_expr))"
   ]
  },
  {
   "cell_type": "code",
   "execution_count": null,
   "id": "8dd0d8092fe74a7c96281538738b07e2",
   "metadata": {},
   "outputs": [],
   "source": [
    "# 6️⃣ Export des coefficients vers CSV\n",
    "rows = []\n",
    "for i, c in enumerate(coef_F[::-1]):  # c0 → c2\n",
    "    rows.append({\"fonc\": \"F\", \"ordre\": i, \"coeff\": float(c)})\n",
    "for i, d in enumerate(coef_G[::-1]):  # d0 → d2\n",
    "    rows.append({\"fonc\": \"G\", \"ordre\": i, \"coeff\": float(d)})\n",
    "\n",
    "df_out = pd.DataFrame(rows)\n",
    "OUT_CSV = DATA_OUT / \"02_FG_series.csv\"\n",
    "df_out.to_csv(OUT_CSV, index=False, float_format=\"%.6e\")\n",
    "print(f\"→ Séries F/G exportées dans {OUT_CSV}\")"
   ]
  },
  {
   "cell_type": "code",
   "execution_count": null,
   "id": "72eea5119410473aa328ad9291626812",
   "metadata": {},
   "outputs": [],
   "source": [
    "# 7️⃣ Tests/Assertions\n",
    "assert set(df_out[df_out.fonc == \"F\"].ordre) == {0, 1, 2}, \"Termes F manquants\"\n",
    "assert set(df_out[df_out.fonc == \"G\"].ordre) == {0, 1, 2}, \"Termes G manquants\"\n",
    "print(\"✅ Tous les termes F et G jusqu'à l'ordre 2 sont présents.\")"
   ]
  }
 ],
 "metadata": {
  "kernelspec": {
   "display_name": "Python 3",
   "language": "python",
   "name": "python3"
  },
  "language_info": {
   "name": "python",
   "version": ""
  }
 },
 "nbformat": 4,
 "nbformat_minor": 5
}
